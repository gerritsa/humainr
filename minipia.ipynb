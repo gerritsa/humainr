{
 "cells": [
  {
   "cell_type": "markdown",
   "metadata": {},
   "source": [
    "Example copy:\n",
    "\n",
    "1. Torchaudio load from S3:\n",
    "    - client = boto3.client('s3', config=Config(signature_version=UNSIGNED))\n",
    "    - response = client.get_object(Bucket=S3_BUCKET, Key=S3_KEY)\n",
    "    - waveform, sample_rate = torchaudio.load(response['Body'])\n",
    "    - plot_specgram(waveform, sample_rate, title=\"From S3\")"
   ]
  },
  {
   "cell_type": "markdown",
   "metadata": {},
   "source": [
    "Pre installatie\n",
    "- sudo apt install libsndfile1-dev\n",
    "- sudo apt install awscli\n",
    "\n",
    "- aws configure sso (Met informatie geleverd door Nick)\n",
    "\n",
    "- conda create --name humainr python=3.9\n",
    "- pip install boto3\n",
    "- pip install transformers\"[speech, sentencepiece]\"\n",
    "- pip install datasets\n"
   ]
  },
  {
   "cell_type": "markdown",
   "metadata": {},
   "source": [
    "### Extra voor later\n",
    "\n",
    "1. print(uuid.uuid4())\n"
   ]
  },
  {
   "cell_type": "code",
   "execution_count": 4,
   "metadata": {},
   "outputs": [
    {
     "name": "stdout",
     "output_type": "stream",
     "text": [
      "Content-Type: text/html\n",
      "\n",
      "<!DOCTYPE html>\n",
      "<html lang=\"en\">\n",
      "<body>\n",
      "<h1>Hello, World!</h1>\n",
      "</body>\n",
      "</html>\n"
     ]
    }
   ],
   "source": [
    "print(\n",
    "    \"\"\"\\\n",
    "Content-Type: text/html\n",
    "\n",
    "<!DOCTYPE html>\n",
    "<html lang=\"en\">\n",
    "<body>\n",
    "<h1>Hello, World!</h1>\n",
    "</body>\n",
    "</html>\"\"\"\n",
    ")"
   ]
  },
  {
   "cell_type": "markdown",
   "metadata": {},
   "source": [
    "Verschillende imports voor het programma"
   ]
  },
  {
   "cell_type": "code",
   "execution_count": 2,
   "metadata": {},
   "outputs": [
    {
     "name": "stderr",
     "output_type": "stream",
     "text": [
      "/home/arnold/anaconda3/envs/humainr/lib/python3.9/site-packages/tqdm/auto.py:21: TqdmWarning: IProgress not found. Please update jupyter and ipywidgets. See https://ipywidgets.readthedocs.io/en/stable/user_install.html\n",
      "  from .autonotebook import tqdm as notebook_tqdm\n"
     ]
    }
   ],
   "source": [
    "### General\n",
    "import os\n",
    "import torch\n",
    "import uuid\n",
    "import shutil\n",
    "from io import BytesIO\n",
    "import json\n",
    "\n",
    "### s3 and DynamoDB\n",
    "import boto3\n",
    "\n",
    "### Transcibing trough ML\n",
    "import torchaudio\n",
    "from transformers import Speech2TextProcessor, Speech2TextForConditionalGeneration\n",
    "from datasets import load_dataset, Audio\n"
   ]
  },
  {
   "cell_type": "markdown",
   "metadata": {},
   "source": [
    "Configuratie"
   ]
  },
  {
   "cell_type": "code",
   "execution_count": 3,
   "metadata": {},
   "outputs": [
    {
     "name": "stdout",
     "output_type": "stream",
     "text": [
      "common_voice_en_38497561 (copy).mp3\n",
      "common_voice_en_38497561.mp3\n",
      "test.json\n"
     ]
    }
   ],
   "source": [
    "\n",
    "boto3.setup_default_session(profile_name='AWSIntroTraining-408122842185')\n",
    "s3 = boto3.resource('s3')\n",
    "bucketname = 'humainr-aws-intro-bucket'\n",
    "bucket = s3.Bucket(bucketname)\n",
    "\n",
    "db = boto3.resource('dynamodb')\n",
    "tablename = 'AWSIntroTable'\n",
    "table = db.Table(tablename)\n",
    "\n",
    "sync_path = 'data/new/'\n",
    "arch_path = 'data/archive/'\n",
    "test_file = 'common_voice_en_38497561.mp3'\n",
    "\n",
    "for my_bucket_object in bucket.objects.all():\n",
    "    print(my_bucket_object.key)\n"
   ]
  },
  {
   "cell_type": "markdown",
   "metadata": {},
   "source": [
    "Verwerk de klaarstaande audiobestanden naar de AWS bucket\n",
    "\n",
    "1 - Upload file naar S3\n",
    "2 - Verplaats bestand van de sync_dir naar de arch_dir"
   ]
  },
  {
   "cell_type": "code",
   "execution_count": 6,
   "metadata": {},
   "outputs": [
    {
     "name": "stdout",
     "output_type": "stream",
     "text": [
      "Inhoud van de locale disk:\n",
      "Inhoud van de s3 bucket:\n",
      "common_voice_en_38497561 (copy).mp3\n",
      "common_voice_en_38497561.mp3\n",
      "eb1cc731-9c78-4b55-8657-9ffeebbd1a11\n",
      "test.json\n"
     ]
    }
   ],
   "source": [
    "\n",
    "print(\"Inhoud van de locale disk:\")\n",
    "for entry in os.listdir(sync_path):\n",
    "    if entry.endswith('.mp3'):\n",
    "        #bucket.upload_file(sync_path + entry, entry)\n",
    "        #shutil.move(sync_path + entry, arch_path + entry)\n",
    "        pass\n",
    "\n",
    "print(\"Inhoud van de s3 bucket:\")\n",
    "for my_bucket_object in bucket.objects.all():\n",
    "    print(my_bucket_object.key)\n",
    "    ### Volgende regel is voor debug om de s3 bucket geheel leeg te gooien.\n",
    "    #my_bucket_object.delete()\n",
    "\n"
   ]
  },
  {
   "cell_type": "markdown",
   "metadata": {},
   "source": [
    "Sectie voor de transcriptie:\n",
    "\n",
    "1 - Zet bytestream om naar bruikbare data\n",
    "2 - Pas de samplingrate aan\n",
    "3 - Extraheer feautures\n",
    "4 - Transcribeer de data"
   ]
  },
  {
   "cell_type": "code",
   "execution_count": 13,
   "metadata": {},
   "outputs": [
    {
     "name": "stderr",
     "output_type": "stream",
     "text": [
      "Some weights of Speech2TextForConditionalGeneration were not initialized from the model checkpoint at facebook/s2t-small-librispeech-asr and are newly initialized: ['model.encoder.embed_positions.weights', 'model.decoder.embed_positions.weights']\n",
      "You should probably TRAIN this model on a down-stream task to be able to use it for predictions and inference.\n"
     ]
    },
    {
     "data": {
      "text/plain": [
       "['they hastily drive to the plain and flee from the dangers of the mob']"
      ]
     },
     "execution_count": 13,
     "metadata": {},
     "output_type": "execute_result"
    }
   ],
   "source": [
    "model = Speech2TextForConditionalGeneration.from_pretrained(\"facebook/s2t-small-librispeech-asr\")\n",
    "processor = Speech2TextProcessor.from_pretrained(\"facebook/s2t-small-librispeech-asr\")\n",
    "\n",
    "### Laad de file/files in de dataset die transcribed moet worden\n",
    "#ds = load_dataset(\"audiofolder\", data_files=[sync_path + test_file], split=\"train\")\n",
    "obj = s3.Object(bucket_name=bucketname, key=test_file)\n",
    "response = obj.get()\n",
    "audio_bytes = BytesIO(response['Body'].read())\n",
    "\n",
    "### Zet de bytestream van de s3 opslag om naar een numberarray\n",
    "waveform, sample_rate = torchaudio.load(audio_bytes, format=\"mp3\")\n",
    "\n",
    "### Zet de sampling rate om naar 16000 voor het getrainde model\n",
    "waveform = torchaudio.functional.resample(waveform, orig_freq=sample_rate, new_freq=16000)\n",
    "\n",
    "### Genereer features uit de data\n",
    "inputs = processor(waveform.squeeze().numpy(), sampling_rate=16000, return_tensors=\"pt\")\n",
    "\n",
    "### [TODO] Uitzoeken wat deze functie precies doet.\n",
    "generated_ids = model.generate(inputs[\"input_features\"], attention_mask=inputs[\"attention_mask\"])\n",
    "\n",
    "### [TODO] Omzetten prediction naar transcriptie.\n",
    "transcription = processor.batch_decode(generated_ids, skip_special_tokens=True)\n",
    "transcription\n"
   ]
  },
  {
   "cell_type": "markdown",
   "metadata": {},
   "source": [
    "### Opslaan transcriptie in DynamoDB\n"
   ]
  },
  {
   "cell_type": "code",
   "execution_count": 20,
   "metadata": {},
   "outputs": [
    {
     "name": "stdout",
     "output_type": "stream",
     "text": [
      "2023-12-22 12:22:48.688000+01:00\n",
      "[{'AttributeName': 'id', 'AttributeType': 'S'}]\n",
      "{'framerate': '32000', 'id': '1234-56789', 'file_name': 'test_file.bak', 'transcript': 'they hastily drive to the plain and flee from the dangers of the mob'}\n",
      "they hastily drive to the plain and flee from the dangers of the mob\n",
      "[{'framerate': '32000', 'id': '5678-901234', 'file_name': 'test_file.bak', 'transcript': 'they hastily drive to the plain and flee from the dangers of the mob'}, {'framerate': '32000', 'id': '1234-56789', 'file_name': 'test_file.bak', 'transcript': 'they hastily drive to the plain and flee from the dangers of the mob'}]\n",
      "no item found: 1234-56789\n"
     ]
    }
   ],
   "source": [
    "print(table.creation_date_time)\n",
    "attrs = table.attribute_definitions\n",
    "print(attrs)\n",
    "\n",
    "table.put_item(\n",
    "   Item={\n",
    "        'id': '1234-56789',\n",
    "        'file_name': 'test_file.bak',\n",
    "        'framerate': '32000',\n",
    "        'transcript': transcription[0],\n",
    "    }\n",
    ")\n",
    "\n",
    "table.put_item(\n",
    "   Item={\n",
    "        'id': '5678-901234',\n",
    "        'file_name': 'test_file.bak',\n",
    "        'framerate': '32000',\n",
    "        'transcript': transcription[0],\n",
    "    }\n",
    ")\n",
    "\n",
    "response = table.get_item(\n",
    "    Key={\n",
    "        'id': '1234-56789',\n",
    "    }\n",
    ")\n",
    "print(response['Item'])\n",
    "print(response['Item']['transcript'])\n",
    "\n",
    "response = table.scan()\n",
    "print(response['Items'])\n",
    "\n",
    "\n",
    "\n",
    "#response = table.delete_item(\n",
    "#    Key={\n",
    "#        'id': '1234-56789'\n",
    "#    }\n",
    "#)\n",
    "\n",
    "response = table.get_item(\n",
    "    Key={\n",
    "        'id': '1234-56789',\n",
    "    }\n",
    ")\n",
    "try:\n",
    "    item = response['item']\n",
    "except:\n",
    "    print('no item found: 1234-56789')\n"
   ]
  },
  {
   "cell_type": "markdown",
   "metadata": {},
   "source": [
    "Verwerk de al verwerkte data naar een leesbare html pagina"
   ]
  },
  {
   "cell_type": "code",
   "execution_count": 17,
   "metadata": {},
   "outputs": [],
   "source": [
    "# write-html.py\n",
    "\n",
    "f = open('helloworld.html','w')\n",
    "\n",
    "message = \"\"\"\n",
    "<html>\n",
    "<head>MiniPIA</head>\n",
    "<body>\n",
    "    <p>Hello World!</p>\n",
    "    \"\"\" + transcription[0] + \"\"\"\n",
    "</body>\n",
    "</html>\"\"\"\n",
    "\n",
    "f.write(message)\n",
    "f.close()"
   ]
  },
  {
   "cell_type": "markdown",
   "metadata": {},
   "source": [
    "#### Host de pagina's"
   ]
  },
  {
   "cell_type": "code",
   "execution_count": 11,
   "metadata": {},
   "outputs": [
    {
     "ename": "KeyboardInterrupt",
     "evalue": "",
     "output_type": "error",
     "traceback": [
      "\u001b[0;31m---------------------------------------------------------------------------\u001b[0m",
      "\u001b[0;31mKeyboardInterrupt\u001b[0m                         Traceback (most recent call last)",
      "Cell \u001b[0;32mIn[11], line 17\u001b[0m\n\u001b[1;32m     14\u001b[0m my_server \u001b[38;5;241m=\u001b[39m socketserver\u001b[38;5;241m.\u001b[39mTCPServer((\u001b[38;5;124m\"\u001b[39m\u001b[38;5;124m\"\u001b[39m, PORT), handler_object)\n\u001b[1;32m     16\u001b[0m \u001b[38;5;66;03m# Star the server\u001b[39;00m\n\u001b[0;32m---> 17\u001b[0m \u001b[43mmy_server\u001b[49m\u001b[38;5;241;43m.\u001b[39;49m\u001b[43mserve_forever\u001b[49m\u001b[43m(\u001b[49m\u001b[43m)\u001b[49m\n",
      "File \u001b[0;32m~/anaconda3/envs/humainr/lib/python3.9/socketserver.py:232\u001b[0m, in \u001b[0;36mBaseServer.serve_forever\u001b[0;34m(self, poll_interval)\u001b[0m\n\u001b[1;32m    229\u001b[0m selector\u001b[38;5;241m.\u001b[39mregister(\u001b[38;5;28mself\u001b[39m, selectors\u001b[38;5;241m.\u001b[39mEVENT_READ)\n\u001b[1;32m    231\u001b[0m \u001b[38;5;28;01mwhile\u001b[39;00m \u001b[38;5;129;01mnot\u001b[39;00m \u001b[38;5;28mself\u001b[39m\u001b[38;5;241m.\u001b[39m__shutdown_request:\n\u001b[0;32m--> 232\u001b[0m     ready \u001b[38;5;241m=\u001b[39m \u001b[43mselector\u001b[49m\u001b[38;5;241;43m.\u001b[39;49m\u001b[43mselect\u001b[49m\u001b[43m(\u001b[49m\u001b[43mpoll_interval\u001b[49m\u001b[43m)\u001b[49m\n\u001b[1;32m    233\u001b[0m     \u001b[38;5;66;03m# bpo-35017: shutdown() called during select(), exit immediately.\u001b[39;00m\n\u001b[1;32m    234\u001b[0m     \u001b[38;5;28;01mif\u001b[39;00m \u001b[38;5;28mself\u001b[39m\u001b[38;5;241m.\u001b[39m__shutdown_request:\n",
      "File \u001b[0;32m~/anaconda3/envs/humainr/lib/python3.9/selectors.py:416\u001b[0m, in \u001b[0;36m_PollLikeSelector.select\u001b[0;34m(self, timeout)\u001b[0m\n\u001b[1;32m    414\u001b[0m ready \u001b[38;5;241m=\u001b[39m []\n\u001b[1;32m    415\u001b[0m \u001b[38;5;28;01mtry\u001b[39;00m:\n\u001b[0;32m--> 416\u001b[0m     fd_event_list \u001b[38;5;241m=\u001b[39m \u001b[38;5;28;43mself\u001b[39;49m\u001b[38;5;241;43m.\u001b[39;49m\u001b[43m_selector\u001b[49m\u001b[38;5;241;43m.\u001b[39;49m\u001b[43mpoll\u001b[49m\u001b[43m(\u001b[49m\u001b[43mtimeout\u001b[49m\u001b[43m)\u001b[49m\n\u001b[1;32m    417\u001b[0m \u001b[38;5;28;01mexcept\u001b[39;00m \u001b[38;5;167;01mInterruptedError\u001b[39;00m:\n\u001b[1;32m    418\u001b[0m     \u001b[38;5;28;01mreturn\u001b[39;00m ready\n",
      "\u001b[0;31mKeyboardInterrupt\u001b[0m: "
     ]
    }
   ],
   "source": [
    "import http.server\n",
    "import socketserver\n",
    "\n",
    "class MyHttpRequestHandler(http.server.SimpleHTTPRequestHandler):\n",
    "    def do_GET(self):\n",
    "        if self.path == '/':\n",
    "            self.path = 'helloworld.html'\n",
    "        return http.server.SimpleHTTPRequestHandler.do_GET(self)\n",
    "\n",
    "# Create an object of the above class\n",
    "handler_object = MyHttpRequestHandler\n",
    "\n",
    "PORT = 8000\n",
    "my_server = socketserver.TCPServer((\"\", PORT), handler_object)\n",
    "\n",
    "# Star the server\n",
    "my_server.serve_forever()"
   ]
  },
  {
   "cell_type": "markdown",
   "metadata": {},
   "source": [
    "Start html server op om verwerkte data te publiseren\n",
    "\n",
    "[TODO] Pagina maken om data te uploaden en te gaan verwerken. (als er tijd over is)"
   ]
  }
 ],
 "metadata": {
  "kernelspec": {
   "display_name": "Python 3",
   "language": "python",
   "name": "python3"
  },
  "language_info": {
   "codemirror_mode": {
    "name": "ipython",
    "version": 3
   },
   "file_extension": ".py",
   "mimetype": "text/x-python",
   "name": "python",
   "nbconvert_exporter": "python",
   "pygments_lexer": "ipython3",
   "version": "3.9.18"
  }
 },
 "nbformat": 4,
 "nbformat_minor": 2
}
