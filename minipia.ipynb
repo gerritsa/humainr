{
 "cells": [
  {
   "cell_type": "markdown",
   "metadata": {},
   "source": [
    "Example copy:\n",
    "\n",
    "1 Torchaudio load from S3:\n",
    "client = boto3.client('s3', config=Config(signature_version=UNSIGNED))\n",
    "response = client.get_object(Bucket=S3_BUCKET, Key=S3_KEY)\n",
    "waveform, sample_rate = torchaudio.load(response['Body'])\n",
    "plot_specgram(waveform, sample_rate, title=\"From S3\")\n",
    "\n"
   ]
  },
  {
   "cell_type": "markdown",
   "metadata": {},
   "source": [
    "Pre installatie\n",
    "sudo apt install libsndfile1-dev\n",
    "sudo apt install awscli\n",
    "\n",
    "aws configure sso (Met informatie geleverd door Nick)\n",
    "\n",
    "conda create --name humainr python=3.9\n",
    "pip install boto3\n",
    "pip install transformers\"[speech, sentencepiece]\"\n",
    "pip install datasets\n"
   ]
  },
  {
   "cell_type": "markdown",
   "metadata": {},
   "source": [
    "Verschillende imports voor het programma"
   ]
  },
  {
   "cell_type": "code",
   "execution_count": null,
   "metadata": {},
   "outputs": [],
   "source": [
    "import boto3\n",
    "import os\n",
    "import torch\n",
    "from transformers import Speech2TextProcessor, Speech2TextForConditionalGeneration"
   ]
  },
  {
   "cell_type": "markdown",
   "metadata": {},
   "source": [
    "Configuratie"
   ]
  },
  {
   "cell_type": "code",
   "execution_count": 91,
   "metadata": {},
   "outputs": [
    {
     "name": "stdout",
     "output_type": "stream",
     "text": [
      "common_voice_en_38497561 (copy).mp3\n",
      "common_voice_en_38497561.mp3\n",
      "humainr-aws-intro-bucket\n",
      "common_voice_en_38497561.mp3\n"
     ]
    },
    {
     "ename": "TypeError",
     "evalue": "decode_example() missing 1 required positional argument: 'self'",
     "output_type": "error",
     "traceback": [
      "\u001b[0;31m---------------------------------------------------------------------------\u001b[0m",
      "\u001b[0;31mTypeError\u001b[0m                                 Traceback (most recent call last)",
      "Cell \u001b[0;32mIn[91], line 25\u001b[0m\n\u001b[1;32m     23\u001b[0m response \u001b[38;5;241m=\u001b[39m obj\u001b[38;5;241m.\u001b[39mget()\n\u001b[1;32m     24\u001b[0m mydict \u001b[38;5;241m=\u001b[39m {\u001b[38;5;124m\"\u001b[39m\u001b[38;5;124mpath\u001b[39m\u001b[38;5;124m\"\u001b[39m: \u001b[38;5;124m\"\u001b[39m\u001b[38;5;124mcommon_voice_en_38497561.mp3\u001b[39m\u001b[38;5;124m\"\u001b[39m,\u001b[38;5;124m\"\u001b[39m\u001b[38;5;124mbytes\u001b[39m\u001b[38;5;124m\"\u001b[39m:response[\u001b[38;5;124m'\u001b[39m\u001b[38;5;124mBody\u001b[39m\u001b[38;5;124m'\u001b[39m]\u001b[38;5;241m.\u001b[39mread()}\n\u001b[0;32m---> 25\u001b[0m ds \u001b[38;5;241m=\u001b[39m \u001b[43mAudio\u001b[49m\u001b[38;5;241;43m.\u001b[39;49m\u001b[43mdecode_example\u001b[49m\u001b[43m(\u001b[49m\u001b[43mvalue\u001b[49m\u001b[38;5;241;43m=\u001b[39;49m\u001b[43mmydict\u001b[49m\u001b[43m)\u001b[49m\n\u001b[1;32m     26\u001b[0m \u001b[38;5;28mprint\u001b[39m(ds)\n\u001b[1;32m     27\u001b[0m \u001b[38;5;66;03m#print(response['Body'].read())\u001b[39;00m\n",
      "\u001b[0;31mTypeError\u001b[0m: decode_example() missing 1 required positional argument: 'self'"
     ]
    }
   ],
   "source": [
    "import boto3\n",
    "from datasets import load_dataset, Audio\n",
    "\n",
    "boto3.setup_default_session(profile_name='AWSIntroTraining-408122842185')\n",
    "\n",
    "s3 = boto3.resource('s3')\n",
    "bucket = s3.Bucket('humainr-aws-intro-bucket')\n",
    "#bucketname = 'humainr-aws-intro-bucket'\n",
    "\n",
    "sync_path = 'data/new/'\n",
    "arch_path = 'data/archive/'\n",
    "test_file = 'data/new/common_voice_en_38497561.mp3'\n",
    "\n",
    "for my_bucket_object in bucket.objects.all():\n",
    "    print(my_bucket_object.key)\n",
    "\n",
    "\n",
    "\n",
    "\n",
    "obj = s3.Object(bucket_name='humainr-aws-intro-bucket', key='common_voice_en_38497561.mp3')\n",
    "print(obj.bucket_name)\n",
    "print(obj.key)\n",
    "response = obj.get()\n",
    "mydict = {\"path\": \"common_voice_en_38497561.mp3\",\"bytes\":}\n",
    "audio_bytes = response['Body'].read()\n"
   ]
  },
  {
   "cell_type": "markdown",
   "metadata": {},
   "source": [
    "Verwerk de klaarstaande audiobestanden naar de AWS bucket\n",
    "\n",
    "1 - Upload file naar S3\n",
    "2 - Verplaats bestand van de sync_dir naar de arch_dir"
   ]
  },
  {
   "cell_type": "code",
   "execution_count": 65,
   "metadata": {},
   "outputs": [
    {
     "name": "stdout",
     "output_type": "stream",
     "text": [
      "common_voice_en_38497561 (copy).mp3\n",
      "common_voice_en_38497561.mp3\n"
     ]
    }
   ],
   "source": [
    "import os, shutil\n",
    "\n",
    "for entry in os.listdir(sync_path):\n",
    "    if entry.endswith('.mp3'):\n",
    "        bucket.upload_file(sync_path + entry, entry)\n",
    "        shutil.move(sync_path + entry, arch_path + entry)\n",
    "\n",
    "\n",
    "\n",
    "\n",
    "for my_bucket_object in bucket.objects.all():\n",
    "    print(my_bucket_object.key)\n",
    "    #my_bucket_object.delete()"
   ]
  },
  {
   "cell_type": "markdown",
   "metadata": {},
   "source": [
    "Example voor huggingface Speech2Text"
   ]
  },
  {
   "cell_type": "code",
   "execution_count": 78,
   "metadata": {},
   "outputs": [
    {
     "name": "stderr",
     "output_type": "stream",
     "text": [
      "Some weights of Speech2TextForConditionalGeneration were not initialized from the model checkpoint at facebook/s2t-small-librispeech-asr and are newly initialized: ['model.decoder.embed_positions.weights', 'model.encoder.embed_positions.weights']\n",
      "You should probably TRAIN this model on a down-stream task to be able to use it for predictions and inference.\n"
     ]
    },
    {
     "name": "stdout",
     "output_type": "stream",
     "text": [
      "{'audio': {'path': '/home/arnold/ML/humainr/data/new/common_voice_en_38497561.mp3', 'array': array([ 0.00000000e+00,  1.05738161e-11,  8.13509243e-12, ...,\n",
      "       -8.14127998e-06,  5.09031233e-05, -1.78739399e-04]), 'sampling_rate': 32000}}\n"
     ]
    },
    {
     "data": {
      "text/plain": [
       "['they hastily drive to the plain and flee from the dangers of the mob']"
      ]
     },
     "execution_count": 78,
     "metadata": {},
     "output_type": "execute_result"
    }
   ],
   "source": [
    "import torch\n",
    "from transformers import Speech2TextProcessor, Speech2TextForConditionalGeneration\n",
    "from datasets import load_dataset, Audio\n",
    "from miniaudio import SampleFormat, decode\n",
    "\n",
    "model = Speech2TextForConditionalGeneration.from_pretrained(\"facebook/s2t-small-librispeech-asr\")\n",
    "processor = Speech2TextProcessor.from_pretrained(\"facebook/s2t-small-librispeech-asr\")\n",
    "\n",
    "# ds = load_dataset(\"hf-internal-testing/librispeech_asr_demo\", \"clean\", split=\"validation\")\n",
    "### Laad de file/files in de dataset die transcribed moet worden\n",
    "#ds = load_dataset(\"audiofolder\", data_files=[\"data/new/common_voice_en_38497561.mp3\"], split=\"train\")\n",
    "\n",
    "decoded_audio = decode(audio_bytes, nchannels=1, sample_rate=16000, output_format=SampleFormat.SIGNED32)\n",
    "\n",
    "print(ds[0])\n",
    "\n",
    "### Zorg ervoor dat de samplingrate 16000 is sinds het pretrained model dit verlangt\n",
    "ds = ds.cast_column(\"audio\", Audio(sampling_rate=16000))\n",
    "\n",
    "### Genereer \n",
    "inputs = processor(ds[0][\"audio\"][\"array\"], sampling_rate=ds[0][\"audio\"][\"sampling_rate\"], return_tensors=\"pt\")\n",
    "generated_ids = model.generate(inputs[\"input_features\"], attention_mask=inputs[\"attention_mask\"])\n",
    "\n",
    "transcription = processor.batch_decode(generated_ids, skip_special_tokens=True)\n",
    "transcription"
   ]
  }
 ],
 "metadata": {
  "kernelspec": {
   "display_name": "Python 3",
   "language": "python",
   "name": "python3"
  },
  "language_info": {
   "codemirror_mode": {
    "name": "ipython",
    "version": 3
   },
   "file_extension": ".py",
   "mimetype": "text/x-python",
   "name": "python",
   "nbconvert_exporter": "python",
   "pygments_lexer": "ipython3",
   "version": "3.9.18"
  }
 },
 "nbformat": 4,
 "nbformat_minor": 2
}
